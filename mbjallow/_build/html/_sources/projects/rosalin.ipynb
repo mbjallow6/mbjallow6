{
  "nbformat": 4,
  "nbformat_minor": 0,
  "metadata": {
    "colab": {
      "name": "bioinformatics.ipynb",
      "provenance": []
    },
    "kernelspec": {
      "name": "python3",
      "display_name": "Python 3"
    }
  },
  "cells": [
    {
      "source": [
        "# Rosalin Bioinformatics Challenge\n",
        "---\n"
      ],
      "cell_type": "markdown",
      "metadata": {}
    },
    {
      "source": [
        "#### About Rosalin\n",
        "Rosalin is platform created to support bioinformatic enthusiast to learn through problem solving. It is a project inspired by [Project Euler](https://projecteuler.net), [Google Code Jam](https://codingcompetitions.withgoogle.com/codejam). [more about rosalin](http://rosalind.info/about/)"
      ],
      "cell_type": "markdown",
      "metadata": {}
    },
    {
      "cell_type": "code",
      "metadata": {
        "colab": {
          "base_uri": "https://localhost:8080/",
          "height": 34
        },
        "id": "onpPOkA8Rtpr",
        "outputId": "f4b1ca36-6e45-4955-8c32-0d3f160ea2af"
      },
      "source": [
        "import random \n",
        "import collections\n",
        "# validate DNA sequence helper function\n",
        "\n",
        "Nucleotides = ['A','C','G','T']\n",
        "\n",
        "def val_DNA_Seq(dna_string):\n",
        "  seq2upper = dna_string.upper()\n",
        "  for seq in seq2upper:\n",
        "    if seq not in Nucleotides:\n",
        "      return false\n",
        "  return seq2upper\n",
        "\n",
        "\n",
        "# creating a random  DNA sequence to test the validate helper function\n",
        "\n",
        "\n",
        "rand_DNA_String = ''.join([random.choice(Nucleotides) for seg in range(10)])\n",
        "\n",
        "sample_DNA_String = val_DNA_Seq(rand_DNA_String)\n",
        "sample_DNA_String\n"
      ],
      "execution_count": null,
      "outputs": [
        {
          "output_type": "execute_result",
          "data": {
            "application/vnd.google.colaboratory.intrinsic+json": {
              "type": "string"
            },
            "text/plain": [
              "'CAAAGCACCG'"
            ]
          },
          "metadata": {
            "tags": []
          },
          "execution_count": 1
        }
      ]
    },
    {
      "cell_type": "code",
      "metadata": {
        "id": "CQITIZZLWYyi"
      },
      "source": [
        "# counting necleotide frequencies \n",
        "\n",
        "def count_Nuc_Frequency(dna_string):\n",
        "  nuc_string_counter = {'A':0, 'C':0, 'G':0, 'T':0}\n",
        "  for seq in dna_string:\n",
        "    nuc_string_counter[seq] += 1\n",
        "  return nuc_string_counter\n"
      ],
      "execution_count": null,
      "outputs": []
    },
    {
      "cell_type": "code",
      "metadata": {
        "id": "SWsDTePcoRFC"
      },
      "source": [
        "#  using the in built collection method\n",
        "\n",
        "def count_Nuc_Frequency_v2(dna_string):\n",
        "  return dict(collections.Counter(dna_string))"
      ],
      "execution_count": null,
      "outputs": []
    },
    {
      "cell_type": "code",
      "metadata": {
        "colab": {
          "base_uri": "https://localhost:8080/"
        },
        "id": "vY0W0UjfUPJ6",
        "outputId": "2073acc3-523e-4847-c9a7-6957f6963c58"
      },
      "source": [
        "# test the function using the random generated dna sequence\n",
        "print(count_Nuc_Frequency_v2(sample_DNA_String))\n",
        "print(count_Nuc_Frequency(sample_DNA_String))"
      ],
      "execution_count": null,
      "outputs": [
        {
          "output_type": "stream",
          "text": [
            "{'C': 4, 'A': 4, 'G': 2}\n",
            "{'A': 4, 'C': 4, 'G': 2, 'T': 0}\n"
          ],
          "name": "stdout"
        }
      ]
    },
    {
      "cell_type": "code",
      "metadata": {
        "colab": {
          "base_uri": "https://localhost:8080/"
        },
        "id": "_YDFrFL4q2pn",
        "outputId": "c074fe2e-7bdc-4724-876b-0769fb6a18d8"
      },
      "source": [
        "#  rosalind challege counting nucleotide frequency\n",
        "dna_string = 'AGGGAACTTATGTAGGTGGCATTTAGACGGACCTCATAAAAAGCTTGGCCAGATACAGTGCTGAAGCGTCGCGGGTAGGTCCGGACCGTACTTTGTAATGAGCTGCGGGCCTCGGACTGCAATCGCCTTATCCCTTTGCGTGGATTACGCGGCTAGCTGCATTACTGTCGGGTACGGTCACCAGGGATACGAAGGGTAATATAAGATAGCTGAGAGCCTATTATGGAGGCAGAGCTATGATCACCGAAACATACTCTTCCATGGCTATCCAATCGATTAGGTTAGGCACTATGAGTTCTGACTAAACATGTTATTGACGTCAGTCCCAGGCGCCACCATAGCCGTGAGAGAGTTTAGCACGTTCGCTTCCAGGACTTACTTGGTCATAGCCGCTGGGAACCCGCGATATCATTCGGCCAGGCGTCCCCCACCAGAAGCCACGCAACGGGACCGAATCCTCACGGCAGGTTACTAGTTGTAGAGGCTAGCTCTTAAGAGGCAGAGCACGCAAGCGTTTCGTTTTATGCCCGATAAGCTTTTAGATGTTACAGACTAAAGAGCCCTGTTGGATGCATAGAGCACTTACTTTAAACTCATGGAAAAAAGCTTTTAATTATTGGCGTAGATATCGCGTGAAATGCCTGGTATCCGTAGGGGCTGGCCATCTTGACACCTCGAGCTGCCTACATGTGCCAGGAGATACCTGGTAATTCGTTACTCGATTCGCGACGGACCTATGTATTCACGCAGTCGACTTCGCTCCTGCACTTTGAACTAATCTGATAGGCAGAATCACTGGGTGTTATTTTCATGCGTATCGGTTACGTCCACGTCCATGTTAAAACGAAAACAGTATGCGGGCTAAGGCATTGTCGGTTACCCACCCGCTGCGTGGATC'\n",
        "\n",
        "\n",
        "nuc_counter = count_Nuc_Frequency(dna_string)\n",
        "print(' '.join([str(val) for key, val in nuc_counter.items()]))"
      ],
      "execution_count": null,
      "outputs": [
        {
          "output_type": "stream",
          "text": [
            "222 216 232 228\n"
          ],
          "name": "stdout"
        }
      ]
    },
    {
      "cell_type": "code",
      "metadata": {
        "id": "hZXtCtcuWfuS"
      },
      "source": [
        "# rosalind python village challenge\r\n",
        "# problem 1 install python and import this module\r\n",
        "\r\n",
        "import this"
      ],
      "execution_count": null,
      "outputs": []
    },
    {
      "cell_type": "code",
      "metadata": {
        "colab": {
          "base_uri": "https://localhost:8080/"
        },
        "id": "cl0tRuCoW0X-",
        "outputId": "4b2bade0-57a1-4c9a-f27e-61e0da85eaa6"
      },
      "source": [
        "# print the hypotenus of right triangle\r\n",
        "\r\n",
        "def hypotenus(a,b):\r\n",
        "  print(\"{}\".format(a**2 + b**2))\r\n",
        "\r\n",
        "hypotenus(810 ,903)"
      ],
      "execution_count": null,
      "outputs": [
        {
          "output_type": "stream",
          "text": [
            "1471509\n"
          ],
          "name": "stdout"
        }
      ]
    },
    {
      "cell_type": "code",
      "metadata": {
        "colab": {
          "base_uri": "https://localhost:8080/"
        },
        "id": "HHXGpIXveICV",
        "outputId": "82711e81-12c4-4586-d45b-e70ee2a8c01d"
      },
      "source": [
        "def sliceText(txt, a,b,c,d):\r\n",
        "  \r\n",
        "\r\n",
        "  print(\"{} {}\".format(txt[a:b+1], txt[c:d+1]))\r\n",
        "\r\n",
        "\r\n",
        "\r\n",
        "a,b,c,d = 51,58,151,158\r\n",
        "text = 'jOweVhwIhndHjF92sKbEvBq8bi0YUueb1CcxfcsWTDaMLpmF8qpAmphiumaNUQokYgIZ68CGPTiMxiG92v6yfogAy337zzPhg2x2o6rWGi2fDER24SBvwvJLDy2YvgySfQRXVaQ2dOTpdiHBw0zVW6PalbigulaxXIQinUbesd'\r\n",
        "sliceText(text,a,b,c,d)\r\n"
      ],
      "execution_count": null,
      "outputs": [
        {
          "output_type": "stream",
          "text": [
            "Amphiuma albigula\n"
          ],
          "name": "stdout"
        }
      ]
    },
    {
      "cell_type": "code",
      "metadata": {
        "colab": {
          "base_uri": "https://localhost:8080/"
        },
        "id": "uiNo7NA6nGDV",
        "outputId": "5bf56833-9108-4de9-ceec-031f8cd4cf89"
      },
      "source": [
        "def sumOdds(a,b):\r\n",
        "  if a>b or b>10000:\r\n",
        "    return 0\r\n",
        "  sumodds = 0\r\n",
        "  for i in range(a,b+1):\r\n",
        "    if i%2 != 0:\r\n",
        "      sumodds = sumodds+i\r\n",
        "  return sumodds\r\n",
        "  \r\n",
        "a, b = 4174, 8672\r\n",
        "sumOdds(a,b)"
      ],
      "execution_count": null,
      "outputs": [
        {
          "output_type": "execute_result",
          "data": {
            "text/plain": [
              "14445327"
            ]
          },
          "metadata": {
            "tags": []
          },
          "execution_count": 12
        }
      ]
    },
    {
      "cell_type": "code",
      "metadata": {
        "id": "VyBNsxMos7EH"
      },
      "source": [
        "# reading and writing on files \r\n",
        "def read_write(in_path, out_path):\r\n",
        "  with open(in_path,'r') as rf:\r\n",
        "    text = [txt for  num, txt in  enumerate(rf.readlines())\r\n",
        "    if num % 2 != 0]\r\n",
        "\r\n",
        "  with open(out_path,'w') as wf:\r\n",
        "    wf.write(''.join([newtext for newtext in text]))\r\n",
        "  return text\r\n"
      ],
      "execution_count": null,
      "outputs": []
    },
    {
      "cell_type": "code",
      "metadata": {
        "colab": {
          "base_uri": "https://localhost:8080/"
        },
        "id": "LumrI7VtyAb0",
        "outputId": "74235921-dcba-4700-f52c-21c8e924c065"
      },
      "source": [
        "read_write('/content/rosalind_ini5.txt', '/content/out.txt')"
      ],
      "execution_count": null,
      "outputs": [
        {
          "output_type": "execute_result",
          "data": {
            "text/plain": [
              "['Some things in life are bad, they can really make you mad\\n',\n",
              " 'Other things just make you swear and curse\\n',\n",
              " \"When you're chewing on life's gristle, don't grumble give a whistle\\n\",\n",
              " 'This will help things turn out for the best\\n',\n",
              " 'Always look on the bright side of life\\n',\n",
              " 'Always look on the right side of life\\n',\n",
              " \"If life seems jolly rotten, there's something you've forgotten\\n\",\n",
              " \"And that's to laugh and smile and dance and sing\\n\",\n",
              " \"When you're feeling in the dumps, don't be silly, chumps\\n\",\n",
              " \"Just purse your lips and whistle, that's the thing\\n\",\n",
              " 'So, always look on the bright side of death\\n',\n",
              " 'Just before you draw your terminal breath\\n',\n",
              " \"Life's a counterfeit and when you look at it\\n\",\n",
              " \"Life's a laugh and death's the joke, it's true\\n\",\n",
              " \"You see, it's all a show, keep them laughing as you go\\n\",\n",
              " 'Just remember the last laugh is on you\\n',\n",
              " 'Always look on the bright side of life\\n',\n",
              " 'And always look on the right side of life\\n',\n",
              " 'Always look on the bright side of life\\n',\n",
              " 'And always look on the right side of life\\n']"
            ]
          },
          "metadata": {
            "tags": []
          },
          "execution_count": 19
        }
      ]
    },
    {
      "cell_type": "code",
      "metadata": {
        "id": "5FOFgQfwytzw"
      },
      "source": [
        "# count words\r\n",
        "def count_words(text):\r\n",
        "  words_counter = {}\r\n",
        "  for word in text.split(' '):\r\n",
        "    if word in words_counter:\r\n",
        "      words_counter[word] += 1\r\n",
        "    else:\r\n",
        "      words_counter[word] = 1\r\n",
        "  \r\n",
        "  for key, value in words_counter.items():\r\n",
        "    print(key, value) \r\n",
        "    "
      ],
      "execution_count": null,
      "outputs": []
    },
    {
      "cell_type": "code",
      "metadata": {
        "colab": {
          "base_uri": "https://localhost:8080/"
        },
        "id": "ls2stMw4y3Sa",
        "outputId": "38d5474d-20cc-4db2-a7f5-5e36b884ad41"
      },
      "source": [
        "txt = 'When I find myself in times of trouble Mother Mary comes to me Speaking words of wisdom let it be And in my hour of darkness she is standing right in front of me Speaking words of wisdom let it be Let it be let it be let it be let it be Whisper words of wisdom let it be And when the broken hearted people living in the world agree There will be an answer let it be For though they may be parted there is still a chance that they will see There will be an answer let it be Let it be let it be let it be let it be There will be an answer let it be Let it be let it be let it be let it be Whisper words of wisdom let it be Let it be let it be let it be let it be Whisper words of wisdom let it be And when the night is cloudy there is still a light that shines on me Shine until tomorrow let it be I wake up to the sound of music Mother Mary comes to me Speaking words of wisdom let it be Let it be let it be let it be yeah let it be There will be an answer let it be Let it be let it be let it be yeah let it be Whisper words of wisdom let it be'\r\n",
        "count_words(txt)"
      ],
      "execution_count": null,
      "outputs": [
        {
          "output_type": "stream",
          "text": [
            "When 1\n",
            "I 2\n",
            "find 1\n",
            "myself 1\n",
            "in 4\n",
            "times 1\n",
            "of 11\n",
            "trouble 1\n",
            "Mother 2\n",
            "Mary 2\n",
            "comes 2\n",
            "to 3\n",
            "me 4\n",
            "Speaking 3\n",
            "words 7\n",
            "wisdom 7\n",
            "let 30\n",
            "it 36\n",
            "be 41\n",
            "And 3\n",
            "my 1\n",
            "hour 1\n",
            "darkness 1\n",
            "she 1\n",
            "is 4\n",
            "standing 1\n",
            "right 1\n",
            "front 1\n",
            "Let 6\n",
            "Whisper 4\n",
            "when 2\n",
            "the 4\n",
            "broken 1\n",
            "hearted 1\n",
            "people 1\n",
            "living 1\n",
            "world 1\n",
            "agree 1\n",
            "There 4\n",
            "will 5\n",
            "an 4\n",
            "answer 4\n",
            "For 1\n",
            "though 1\n",
            "they 2\n",
            "may 1\n",
            "parted 1\n",
            "there 2\n",
            "still 2\n",
            "a 2\n",
            "chance 1\n",
            "that 2\n",
            "see 1\n",
            "night 1\n",
            "cloudy 1\n",
            "light 1\n",
            "shines 1\n",
            "on 1\n",
            "Shine 1\n",
            "until 1\n",
            "tomorrow 1\n",
            "wake 1\n",
            "up 1\n",
            "sound 1\n",
            "music 1\n",
            "yeah 2\n"
          ],
          "name": "stdout"
        }
      ]
    }
  ]
}