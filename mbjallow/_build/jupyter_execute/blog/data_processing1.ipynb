{
 "cells": [
  {
   "cell_type": "markdown",
   "metadata": {},
   "source": [
    "# Data Processing For Machine Learning Task\n",
    "---\n",
    "\n",
    "#### Date: 2021/02/12\n",
    "For every Machine Learning (ML) or Anlytics task, 70 - 80% for the time is spent processing data to suit the format required by your desired model or algorithm. Therefore, it is important for every aspiring Data Science to be acquainted with data Processing methods.\n",
    "\n",
    "***The rest of the article will be available shortly***\n"
   ]
  }
 ],
 "metadata": {
  "language_info": {
   "codemirror_mode": {
    "name": "ipython",
    "version": 3
   },
   "file_extension": ".py",
   "mimetype": "text/x-python",
   "name": "python",
   "nbconvert_exporter": "python",
   "pygments_lexer": "ipython3",
   "version": "3.7.9"
  }
 },
 "nbformat": 4,
 "nbformat_minor": 2
}